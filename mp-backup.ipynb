{
 "cells": [
  {
   "cell_type": "markdown",
   "metadata": {},
   "source": [
    "# HW3.  Database Design"
   ]
  },
  {
   "cell_type": "markdown",
   "metadata": {},
   "source": [
    "### Library Relations"
   ]
  },
  {
   "cell_type": "markdown",
   "metadata": {},
   "source": [
    "- Member = {<span style=\"text-decoration:underline\">memberID</span>, name, birthday, status}\n",
    "- Borrow = {<span style=\"text-decoration:underline\">borrowID</span><sup>FK-BorrowTransactions</sup>, <span style=\"text-decoration:underline\">memberID</span><sup>FK-Member</sup>,<span style=\"text-decoration:underline\">itemID</span><sup>FK-Item</sup>}\n",
    "- BorrowTransactions = {<span style=\"text-decoration:underline\">borrowID</span>, borrowDate, returnDate}\n",
    "- Owes = {<span style=\"text-decoration:underline\">fineID</span><sup>FK-Fines</sup>,<span style=\"text-decoration:underline\">memberID</span><sup>FK-Member</sup>,<span style=\"text-decoration:underline\">itemID</span><sup>FK-Item</sup>}\n",
    "- Fines = {<span style=\"text-decoration:underline\">fineID</span>, status, amount}\n",
    "- Item = {<span style=\"text-decoration:underline\">itemID</span>, name, author, category, genre, status}\n",
    "- History = {<span style=\"text-decoration:underline\">itemID</span><sup>FK-Item</sup>, <span style=\"text-decoration:underline\">recordID</span><sup>FK-Records</sup>}\n",
    "- Records = {<span style=\"text-decoration:underline\">recordID</span>, status, lastUpdated}\n",
    "- Volunteers = {<span style=\"text-decoration:underline\">memberID</span><sup>FK-Member</sup>,<span style=\"text-decoration:underline\">staffID</span>}\n",
    "- Staff = {<span style=\"text-decoration:underline\">memberID</span><sup>FK-Member</sup>, <span style=\"text-decoration:underline\">staffID</span>, position, wage, employmentDate}\n",
    "- Volunteer = {<span style=\"text-decoration:underline\">memberID</span><sup>FK-Member</sup>, <span style=\"text-decoration:underline\">volunteerID</span>, employmentDate}\n",
    "- Hold = {{<span style=\"text-decoration:underline\">staffID</span><sup>FK-Staff</sup>>,<span style=\"text-decoration:underline\">eventID</span>}<sup>FK-Events</sup>}\n",
    "- Events = {<span style=\"text-decoration:underline\">eventID</span>, name, scheduledTime, scheduledDate, targetAudience}\n",
    "- Located = {<span style=\"text-decoration:underline\">eventID</span><sup>FK-Events</sup>, <span style=\"text-decoration:underline\">roomNum</span><sup>FK-Room</sup>}\n",
    "- Room = {<span style=\"text-decoration:underline\">roomNum</span>, maxCap}"
   ]
  },
  {
   "cell_type": "markdown",
   "metadata": {},
   "source": [
    "#### Creating Database"
   ]
  },
  {
   "cell_type": "code",
   "execution_count": 1,
   "metadata": {},
   "outputs": [
    {
     "data": {
      "text/html": [
       "<span style=\"None\">displaylimit: Value None will be treated as 0 (no limit)</span>"
      ],
      "text/plain": [
       "displaylimit: Value None will be treated as 0 (no limit)"
      ]
     },
     "metadata": {},
     "output_type": "display_data"
    }
   ],
   "source": [
    "%load_ext sql\n",
    "%config SqlMagic.displaylimit = None"
   ]
  },
  {
   "cell_type": "code",
   "execution_count": 2,
   "metadata": {},
   "outputs": [
    {
     "data": {
      "text/html": [
       "<span style=\"None\">Connecting to &#x27;sqlite:///library.db&#x27;</span>"
      ],
      "text/plain": [
       "Connecting to 'sqlite:///library.db'"
      ]
     },
     "metadata": {},
     "output_type": "display_data"
    }
   ],
   "source": [
    "%sql sqlite:///library.db"
   ]
  },
  {
   "cell_type": "code",
   "execution_count": null,
   "metadata": {},
   "outputs": [],
   "source": [
    "%%sql\n",
    "CREATE TABLE Member (\n",
    "    memberID INT PRIMARY KEY,\n",
    "    name VARCHAR(255),\n",
    "    birthday DATE\n",
    ");"
   ]
  }
 ],
 "metadata": {
  "kernelspec": {
   "display_name": "base",
   "language": "python",
   "name": "python3"
  },
  "language_info": {
   "codemirror_mode": {
    "name": "ipython",
    "version": 3
   },
   "file_extension": ".py",
   "mimetype": "text/x-python",
   "name": "python",
   "nbconvert_exporter": "python",
   "pygments_lexer": "ipython3",
   "version": "3.12.3"
  }
 },
 "nbformat": 4,
 "nbformat_minor": 2
}
