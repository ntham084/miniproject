{
 "cells": [
  {
   "cell_type": "markdown",
   "metadata": {},
   "source": [
    "# HW3.  Database Design"
   ]
  },
  {
   "cell_type": "markdown",
   "metadata": {},
   "source": [
    "### Library Relations"
   ]
  },
  {
   "cell_type": "markdown",
   "metadata": {},
   "source": [
    "- Member = {<span style=\"text-decoration:underline\">memberID</span>, name, birthday, status}\n",
    "- Borrow = {<span style=\"text-decoration:underline\">borrowID</span><sup>FK-BorrowTransactions</sup>, <span style=\"text-decoration:underline\">memberID</span><sup>FK-Member</sup>,<span style=\"text-decoration:underline\">itemID</span><sup>FK-Item</sup>}\n",
    "- BorrowTransactions = {<span style=\"text-decoration:underline\">borrowID</span>, borrowDate, returnDate}\n",
    "- Owes = {<span style=\"text-decoration:underline\">fineID</span><sup>FK-Fines</sup>,<span style=\"text-decoration:underline\">memberID</span><sup>FK-Member</sup>,<span style=\"text-decoration:underline\">itemID</span><sup>FK-Item</sup>}\n",
    "- Fines = {<span style=\"text-decoration:underline\">fineID</span>, status, amount}\n",
    "- Item = {<span style=\"text-decoration:underline\">itemID</span>, name, author, category, genre, status}\n",
    "- Records = {<span style=\"text-decoration:underline\">itemID</span><sup>FK-Item</sup>, status, lastUpdated}\n",
    "- Volunteers = {<span style=\"text-decoration:underline\">memberID</span><sup>FK-Member</sup>,<span style=\"text-decoration:underline\">staffID</span>}\n",
    "- Staff = {<span style=\"text-decoration:underline\">memberID</span><sup>FK-Member</sup>, <span style=\"text-decoration:underline\">staffID</span>, position, wage, employmentDate}\n",
    "- Volunteer = {<span style=\"text-decoration:underline\">memberID</span><sup>FK-Member</sup>, <span style=\"text-decoration:underline\">volunteerID</span>, employmentDate}\n",
    "- Hold = {{<span style=\"text-decoration:underline\">staffID</span><sup>FK-Staff</sup>>,<span style=\"text-decoration:underline\">eventID</span>}<sup>FK-Events</sup>}\n",
    "- Events = {<span style=\"text-decoration:underline\">eventID</span>, name, scheduledTime, scheduledDate, targetAudience}\n",
    "- Located = {<span style=\"text-decoration:underline\">eventID</span><sup>FK-Events</sup>, <span style=\"text-decoration:underline\">roomNum</span><sup>FK-Room</sup>}\n",
    "- Room = {<span style=\"text-decoration:underline\">roomNum</span>, maxCap}"
   ]
  },
  {
   "cell_type": "markdown",
   "metadata": {},
   "source": [
    "#### Creating Database"
   ]
  },
  {
   "cell_type": "code",
   "execution_count": 184,
   "metadata": {},
   "outputs": [
    {
     "name": "stdout",
     "output_type": "stream",
     "text": [
      "The sql extension is already loaded. To reload it, use:\n",
      "  %reload_ext sql\n"
     ]
    },
    {
     "data": {
      "text/html": [
       "<span style=\"None\">displaylimit: Value None will be treated as 0 (no limit)</span>"
      ],
      "text/plain": [
       "displaylimit: Value None will be treated as 0 (no limit)"
      ]
     },
     "metadata": {},
     "output_type": "display_data"
    }
   ],
   "source": [
    "%load_ext sql\n",
    "%config SqlMagic.displaylimit = None"
   ]
  },
  {
   "cell_type": "code",
   "execution_count": 185,
   "metadata": {},
   "outputs": [],
   "source": [
    "%sql sqlite:///library.db"
   ]
  },
  {
   "cell_type": "code",
   "execution_count": 186,
   "metadata": {},
   "outputs": [
    {
     "data": {
      "text/html": [
       "<span style=\"None\">Running query in &#x27;sqlite:///library.db&#x27;</span>"
      ],
      "text/plain": [
       "Running query in 'sqlite:///library.db'"
      ]
     },
     "metadata": {},
     "output_type": "display_data"
    },
    {
     "data": {
      "text/html": [
       "<table>\n",
       "    <thead>\n",
       "        <tr>\n",
       "        </tr>\n",
       "    </thead>\n",
       "    <tbody>\n",
       "    </tbody>\n",
       "</table>"
      ],
      "text/plain": [
       "++\n",
       "||\n",
       "++\n",
       "++"
      ]
     },
     "execution_count": 186,
     "metadata": {},
     "output_type": "execute_result"
    }
   ],
   "source": [
    "%%sql\n",
    "\n",
    "CREATE TABLE Member (\n",
    "    memberID INTEGER PRIMARY KEY,\n",
    "    name VARCHAR(100),\n",
    "    birthday DATE,\n",
    "    status VARCHAR(8) CHECK (status IN ('Active', 'Inactive'))\n",
    ");\n",
    "\n",
    "CREATE TABLE Borrow (\n",
    "    borrowID INTEGER PRIMARY KEY,\n",
    "    memberID INTEGER,\n",
    "    itemID INTEGER,\n",
    "    FOREIGN KEY (borrowID) REFERENCES BorrowTransactions(borrowID),\n",
    "    FOREIGN KEY (memberID) REFERENCES Member(memberID),\n",
    "    FOREIGN KEY (itemID) REFERENCES Item(itemID)\n",
    ");\n",
    "\n",
    "\n",
    "CREATE TABLE BorrowTransactions (\n",
    "    borrowID INTEGER PRIMARY KEY,\n",
    "    borrowDate DATE,\n",
    "    returnDate DATE\n",
    ");\n",
    "\n",
    "CREATE TABLE Owes (\n",
    "    fineID INTEGER PRIMARY KEY,\n",
    "    memberID INTEGER,\n",
    "    itemID INTEGER,\n",
    "    FOREIGN KEY (fineID) REFERENCES Fines(fineID),\n",
    "    FOREIGN KEY (memberID) REFERENCES Member(memberID),\n",
    "    FOREIGN KEY (itemID) REFERENCES Item(itemID)\n",
    ");\n",
    "\n",
    "CREATE TABLE Fines (\n",
    "    fineID INTEGER PRIMARY KEY,\n",
    "    status VARCHAR(6) CHECK (status IN ('Paid', 'Unpaid')),\n",
    "    amount DECIMAL(10,2) CHECK (amount >= 0)\n",
    ");\n",
    "\n",
    "CREATE TABLE Item (\n",
    "    itemID INTEGER PRIMARY KEY,\n",
    "    name VARCHAR(255),\n",
    "    author VARCHAR(100),\n",
    "    category VARCHAR(50),\n",
    "    genre VARCHAR(50),\n",
    "    status VARCHAR(11) CHECK (status IN ('Available', 'Unavailable'))\n",
    ");\n",
    "\n",
    "CREATE TABLE Records (\n",
    "    itemID INTEGER,\n",
    "    status VARCHAR(20) CHECK (status IN ('In System', 'Awaiting Approval', 'Archived')),\n",
    "    lastUpdated DATE,\n",
    "    FOREIGN KEY (itemID) REFERENCES Item(itemID)\n",
    ");\n",
    "\n",
    "CREATE TABLE Staff (\n",
    "    memberID INTEGER,\n",
    "    staffID INTEGER PRIMARY KEY,\n",
    "    position VARCHAR(50),\n",
    "    wage DECIMAL(10,2),\n",
    "    employmentDate DATE,\n",
    "    FOREIGN KEY (memberID) REFERENCES Member(memberID)\n",
    ");\n",
    "\n",
    "CREATE TABLE Volunteer (\n",
    "    memberID INTEGER,\n",
    "    volunteerID INTEGER PRIMARY KEY,\n",
    "    employmentDate DATE,\n",
    "    FOREIGN KEY (memberID) REFERENCES Member(memberID)\n",
    ");\n",
    "\n",
    "CREATE TABLE Hold (\n",
    "    staffID INTEGER,\n",
    "    eventID INTEGER,\n",
    "    PRIMARY KEY (staffID, eventID),\n",
    "    FOREIGN KEY (staffID) REFERENCES Staff(staffID),\n",
    "    FOREIGN KEY (eventID) REFERENCES Events(eventID)\n",
    ");\n",
    "\n",
    "CREATE TABLE Events (\n",
    "    eventID INTEGER PRIMARY KEY,\n",
    "    name VARCHAR(100),\n",
    "    scheduledTime TIME,\n",
    "    scheduledDate DATE,\n",
    "    targetAudience VARCHAR(100)\n",
    ");\n",
    "\n",
    "CREATE TABLE Located (\n",
    "    eventID INTEGER,\n",
    "    roomNum INTEGER,\n",
    "    PRIMARY KEY (eventID, roomNum),\n",
    "    FOREIGN KEY (eventID) REFERENCES Events(eventID),\n",
    "    FOREIGN KEY (roomNum) REFERENCES Room(roomNum)\n",
    ");\n",
    "\n",
    "CREATE TABLE Room (\n",
    "    roomNum INTEGER PRIMARY KEY,\n",
    "    maxCap INTEGER\n",
    ");"
   ]
  },
  {
   "cell_type": "markdown",
   "metadata": {},
   "source": [
    "#### Triggers"
   ]
  },
  {
   "cell_type": "markdown",
   "metadata": {},
   "source": [
    "1) Aborts process if user attempts to borrow item while they have unpaid fines"
   ]
  },
  {
   "cell_type": "code",
   "execution_count": 187,
   "metadata": {},
   "outputs": [
    {
     "data": {
      "text/html": [
       "<span style=\"None\">Running query in &#x27;sqlite:///library.db&#x27;</span>"
      ],
      "text/plain": [
       "Running query in 'sqlite:///library.db'"
      ]
     },
     "metadata": {},
     "output_type": "display_data"
    },
    {
     "data": {
      "text/html": [
       "<table>\n",
       "    <thead>\n",
       "        <tr>\n",
       "        </tr>\n",
       "    </thead>\n",
       "    <tbody>\n",
       "    </tbody>\n",
       "</table>"
      ],
      "text/plain": [
       "++\n",
       "||\n",
       "++\n",
       "++"
      ]
     },
     "execution_count": 187,
     "metadata": {},
     "output_type": "execute_result"
    }
   ],
   "source": [
    "%%sql\n",
    "CREATE TRIGGER prevent_borrow_if_fine_unpaid\n",
    "BEFORE INSERT ON Borrow\n",
    "FOR EACH ROW\n",
    "BEGIN\n",
    "    -- Check if the member has an unpaid fine\n",
    "    SELECT RAISE(ABORT, 'Cannot borrow item. Member has unpaid fines.')\n",
    "    FROM Fines\n",
    "    JOIN Owes ON Fines.fineID = Owes.fineID\n",
    "    WHERE Owes.memberID = NEW.memberID AND Fines.status = 'Unpaid'\n",
    "    LIMIT 1;\n",
    "END;"
   ]
  },
  {
   "cell_type": "markdown",
   "metadata": {},
   "source": [
    "2) Prevent item deletion if it is still borrowed"
   ]
  },
  {
   "cell_type": "code",
   "execution_count": 188,
   "metadata": {},
   "outputs": [
    {
     "data": {
      "text/html": [
       "<span style=\"None\">Running query in &#x27;sqlite:///library.db&#x27;</span>"
      ],
      "text/plain": [
       "Running query in 'sqlite:///library.db'"
      ]
     },
     "metadata": {},
     "output_type": "display_data"
    },
    {
     "data": {
      "text/html": [
       "<table>\n",
       "    <thead>\n",
       "        <tr>\n",
       "        </tr>\n",
       "    </thead>\n",
       "    <tbody>\n",
       "    </tbody>\n",
       "</table>"
      ],
      "text/plain": [
       "++\n",
       "||\n",
       "++\n",
       "++"
      ]
     },
     "execution_count": 188,
     "metadata": {},
     "output_type": "execute_result"
    }
   ],
   "source": [
    "%%sql\n",
    "CREATE TRIGGER prevent_item_deletion_if_borrowed\n",
    "BEFORE DELETE ON Item\n",
    "FOR EACH ROW\n",
    "BEGIN\n",
    "    -- Prevent item deletion if it is still borrowed\n",
    "    SELECT RAISE(ABORT, 'Item cannot be deleted as it is currently borrowed.')\n",
    "    WHERE EXISTS (SELECT 1 FROM Borrow WHERE itemID = OLD.itemID);\n",
    "END;\n"
   ]
  },
  {
   "cell_type": "markdown",
   "metadata": {},
   "source": [
    "3. When add item, also adds record"
   ]
  },
  {
   "cell_type": "code",
   "execution_count": 189,
   "metadata": {},
   "outputs": [
    {
     "data": {
      "text/html": [
       "<span style=\"None\">Running query in &#x27;sqlite:///library.db&#x27;</span>"
      ],
      "text/plain": [
       "Running query in 'sqlite:///library.db'"
      ]
     },
     "metadata": {},
     "output_type": "display_data"
    },
    {
     "data": {
      "text/html": [
       "<table>\n",
       "    <thead>\n",
       "        <tr>\n",
       "        </tr>\n",
       "    </thead>\n",
       "    <tbody>\n",
       "    </tbody>\n",
       "</table>"
      ],
      "text/plain": [
       "++\n",
       "||\n",
       "++\n",
       "++"
      ]
     },
     "execution_count": 189,
     "metadata": {},
     "output_type": "execute_result"
    }
   ],
   "source": [
    "%%sql\n",
    "\n",
    "CREATE TRIGGER add_record_on_item_insert\n",
    "AFTER INSERT ON Item\n",
    "FOR EACH ROW\n",
    "BEGIN\n",
    "    INSERT INTO Records (itemID, status, lastUpdated)\n",
    "    VALUES (NEW.itemID, 'Awaiting Approval', DATE('now'));\n",
    "END;"
   ]
  },
  {
   "cell_type": "markdown",
   "metadata": {},
   "source": [
    "# also need: \n",
    "- if item not in system cant borrow"
   ]
  },
  {
   "cell_type": "markdown",
   "metadata": {},
   "source": [
    "Sets ids so they increase"
   ]
  },
  {
   "cell_type": "code",
   "execution_count": 190,
   "metadata": {},
   "outputs": [
    {
     "data": {
      "text/html": [
       "<span style=\"None\">Running query in &#x27;sqlite:///library.db&#x27;</span>"
      ],
      "text/plain": [
       "Running query in 'sqlite:///library.db'"
      ]
     },
     "metadata": {},
     "output_type": "display_data"
    },
    {
     "data": {
      "text/html": [
       "<table>\n",
       "    <thead>\n",
       "        <tr>\n",
       "        </tr>\n",
       "    </thead>\n",
       "    <tbody>\n",
       "    </tbody>\n",
       "</table>"
      ],
      "text/plain": [
       "++\n",
       "||\n",
       "++\n",
       "++"
      ]
     },
     "execution_count": 190,
     "metadata": {},
     "output_type": "execute_result"
    }
   ],
   "source": [
    "%%sql\n",
    "CREATE TRIGGER set_member_id\n",
    "BEFORE INSERT ON Member\n",
    "FOR EACH ROW\n",
    "WHEN NEW.memberID IS NULL\n",
    "BEGIN\n",
    "    UPDATE Member\n",
    "    SET memberID = (\n",
    "        CASE \n",
    "            WHEN (SELECT MAX(memberID) FROM Member) IS NULL THEN 1\n",
    "            ELSE (SELECT MAX(memberID) FROM Member) + 1\n",
    "        END\n",
    "    )\n",
    "    WHERE rowid = NEW.rowid;\n",
    "END;\n",
    "\n",
    "CREATE TRIGGER set_borrow_transactions\n",
    "BEFORE INSERT ON BorrowTransactions\n",
    "FOR EACH ROW\n",
    "WHEN NEW.borrowID IS NULL\n",
    "BEGIN\n",
    "    UPDATE BorrowTransactions\n",
    "    SET borrowID = (\n",
    "        CASE \n",
    "            WHEN (SELECT MAX(borrowID) FROM BorrowTransactions) IS NULL THEN 1\n",
    "            ELSE (SELECT MAX(borrowID) FROM BorrowTransactions) + 1\n",
    "        END\n",
    "    )\n",
    "    WHERE rowid = NEW.rowid;\n",
    "END;\n",
    "\n",
    "CREATE TRIGGER set_fines\n",
    "BEFORE INSERT ON Fines\n",
    "FOR EACH ROW\n",
    "WHEN NEW.fineID IS NULL\n",
    "BEGIN\n",
    "    UPDATE Fines\n",
    "    SET fineID = (\n",
    "        CASE \n",
    "            WHEN (SELECT MAX(fineID) FROM Fines) IS NULL THEN 1\n",
    "            ELSE (SELECT MAX(fineID) FROM Fines) + 1\n",
    "        END\n",
    "    )\n",
    "    WHERE rowid = NEW.rowid;\n",
    "END;"
   ]
  },
  {
   "cell_type": "code",
   "execution_count": 191,
   "metadata": {},
   "outputs": [
    {
     "data": {
      "text/html": [
       "<span style=\"None\">Running query in &#x27;sqlite:///library.db&#x27;</span>"
      ],
      "text/plain": [
       "Running query in 'sqlite:///library.db'"
      ]
     },
     "metadata": {},
     "output_type": "display_data"
    },
    {
     "data": {
      "text/html": [
       "<table>\n",
       "    <thead>\n",
       "        <tr>\n",
       "            <th>cid</th>\n",
       "            <th>name</th>\n",
       "            <th>type</th>\n",
       "            <th>notnull</th>\n",
       "            <th>dflt_value</th>\n",
       "            <th>pk</th>\n",
       "        </tr>\n",
       "    </thead>\n",
       "    <tbody>\n",
       "        <tr>\n",
       "            <td>0</td>\n",
       "            <td>fineID</td>\n",
       "            <td>INTEGER</td>\n",
       "            <td>0</td>\n",
       "            <td>None</td>\n",
       "            <td>1</td>\n",
       "        </tr>\n",
       "        <tr>\n",
       "            <td>1</td>\n",
       "            <td>status</td>\n",
       "            <td>VARCHAR(6)</td>\n",
       "            <td>0</td>\n",
       "            <td>None</td>\n",
       "            <td>0</td>\n",
       "        </tr>\n",
       "        <tr>\n",
       "            <td>2</td>\n",
       "            <td>amount</td>\n",
       "            <td>DECIMAL(10,2)</td>\n",
       "            <td>0</td>\n",
       "            <td>None</td>\n",
       "            <td>0</td>\n",
       "        </tr>\n",
       "    </tbody>\n",
       "</table>"
      ],
      "text/plain": [
       "+-----+--------+---------------+---------+------------+----+\n",
       "| cid |  name  |      type     | notnull | dflt_value | pk |\n",
       "+-----+--------+---------------+---------+------------+----+\n",
       "|  0  | fineID |    INTEGER    |    0    |    None    | 1  |\n",
       "|  1  | status |   VARCHAR(6)  |    0    |    None    | 0  |\n",
       "|  2  | amount | DECIMAL(10,2) |    0    |    None    | 0  |\n",
       "+-----+--------+---------------+---------+------------+----+"
      ]
     },
     "execution_count": 191,
     "metadata": {},
     "output_type": "execute_result"
    }
   ],
   "source": [
    "%%sql\n",
    "PRAGMA table_info(Fines)"
   ]
  },
  {
   "cell_type": "markdown",
   "metadata": {},
   "source": [
    "#### Inserts"
   ]
  },
  {
   "cell_type": "code",
   "execution_count": 192,
   "metadata": {},
   "outputs": [
    {
     "data": {
      "text/html": [
       "<span style=\"None\">Running query in &#x27;sqlite:///library.db&#x27;</span>"
      ],
      "text/plain": [
       "Running query in 'sqlite:///library.db'"
      ]
     },
     "metadata": {},
     "output_type": "display_data"
    },
    {
     "data": {
      "text/html": [
       "<span style=\"color: green\">10 rows affected.</span>"
      ],
      "text/plain": [
       "10 rows affected."
      ]
     },
     "metadata": {},
     "output_type": "display_data"
    },
    {
     "data": {
      "text/html": [
       "<table>\n",
       "    <thead>\n",
       "        <tr>\n",
       "        </tr>\n",
       "    </thead>\n",
       "    <tbody>\n",
       "    </tbody>\n",
       "</table>"
      ],
      "text/plain": [
       "++\n",
       "||\n",
       "++\n",
       "++"
      ]
     },
     "execution_count": 192,
     "metadata": {},
     "output_type": "execute_result"
    }
   ],
   "source": [
    "%%sql\n",
    "-- Insert data into Member\n",
    "INSERT INTO Member (memberID, name, birthday, status) VALUES\n",
    "(1110, 'Elena Nguyen', '2005-01-15', 'Active'),\n",
    "(NULL, 'Nathan Thamtoro', '2004-01-22', 'Active'),\n",
    "(NULL, 'Charlie Brown', '2000-07-09', 'Inactive'),\n",
    "(NULL, 'Bob Ross', '1995-12-30', 'Active'),\n",
    "(NULL, 'Ethan Hunt', '1992-08-18', 'Inactive'),\n",
    "(NULL, 'Fiona Apple', '1998-06-25', 'Active'),\n",
    "(NULL, 'George Lucas', '1980-11-05', 'Active'),\n",
    "(NULL, 'Helen Keller', '1975-05-14', 'Inactive'),\n",
    "(NULL, 'Isaac Newton', '1963-04-01', 'Active'),\n",
    "(NULL, 'Jack Sparrow', '1989-09-19', 'Active');\n"
   ]
  },
  {
   "cell_type": "code",
   "execution_count": 193,
   "metadata": {},
   "outputs": [
    {
     "data": {
      "text/html": [
       "<span style=\"None\">Running query in &#x27;sqlite:///library.db&#x27;</span>"
      ],
      "text/plain": [
       "Running query in 'sqlite:///library.db'"
      ]
     },
     "metadata": {},
     "output_type": "display_data"
    },
    {
     "data": {
      "text/html": [
       "<span style=\"color: green\">10 rows affected.</span>"
      ],
      "text/plain": [
       "10 rows affected."
      ]
     },
     "metadata": {},
     "output_type": "display_data"
    },
    {
     "data": {
      "text/html": [
       "<table>\n",
       "    <thead>\n",
       "        <tr>\n",
       "        </tr>\n",
       "    </thead>\n",
       "    <tbody>\n",
       "    </tbody>\n",
       "</table>"
      ],
      "text/plain": [
       "++\n",
       "||\n",
       "++\n",
       "++"
      ]
     },
     "execution_count": 193,
     "metadata": {},
     "output_type": "execute_result"
    }
   ],
   "source": [
    "%%sql\n",
    "-- BorrowTransactions\n",
    "INSERT INTO BorrowTransactions (borrowID, borrowDate, returnDate) VALUES\n",
    "(2220, '2024-01-01', '2024-01-15'),\n",
    "(NULl, '2024-01-05', '2024-01-20'),\n",
    "(NULl, '2024-01-10', '2024-01-25'),\n",
    "(NULl, '2024-01-12', '2024-01-27'),\n",
    "(NULl, '2024-01-15', '2024-01-30'),\n",
    "(NULl, '2024-01-20', '2024-02-05'),\n",
    "(NULl, '2024-01-25', '2024-02-10'),\n",
    "(NULl, '2024-02-01', '2024-02-15'),\n",
    "(NULl, '2024-02-05', '2024-02-20'),\n",
    "(NULl, '2024-02-10', '2024-02-25');\n"
   ]
  },
  {
   "cell_type": "code",
   "execution_count": 194,
   "metadata": {},
   "outputs": [
    {
     "data": {
      "text/html": [
       "<span style=\"None\">Running query in &#x27;sqlite:///library.db&#x27;</span>"
      ],
      "text/plain": [
       "Running query in 'sqlite:///library.db'"
      ]
     },
     "metadata": {},
     "output_type": "display_data"
    },
    {
     "data": {
      "text/html": [
       "<span style=\"color: green\">10 rows affected.</span>"
      ],
      "text/plain": [
       "10 rows affected."
      ]
     },
     "metadata": {},
     "output_type": "display_data"
    },
    {
     "data": {
      "text/html": [
       "<table>\n",
       "    <thead>\n",
       "        <tr>\n",
       "        </tr>\n",
       "    </thead>\n",
       "    <tbody>\n",
       "    </tbody>\n",
       "</table>"
      ],
      "text/plain": [
       "++\n",
       "||\n",
       "++\n",
       "++"
      ]
     },
     "execution_count": 194,
     "metadata": {},
     "output_type": "execute_result"
    }
   ],
   "source": [
    "%%sql\n",
    "--Fines\n",
    "INSERT INTO Fines (fineID, status, amount) VALUES\n",
    "(3330, 'Unpaid', 5.00),\n",
    "(NULl, 'Paid', 5.00),\n",
    "(NULl, 'Unpaid', 10.00),\n",
    "(NULl, 'Paid', 7.50),\n",
    "(NULl, 'Unpaid', 15.00),\n",
    "(NULl, 'Paid', 12.00),\n",
    "(NULl, 'Unpaid', 20.00),\n",
    "(NULl, 'Paid', 8.00),\n",
    "(NULl, 'Unpaid', 25.00),\n",
    "(NULl, 'Paid', 15.00);\n"
   ]
  },
  {
   "cell_type": "code",
   "execution_count": 195,
   "metadata": {},
   "outputs": [
    {
     "data": {
      "text/html": [
       "<span style=\"None\">Running query in &#x27;sqlite:///library.db&#x27;</span>"
      ],
      "text/plain": [
       "Running query in 'sqlite:///library.db'"
      ]
     },
     "metadata": {},
     "output_type": "display_data"
    },
    {
     "name": "stderr",
     "output_type": "stream",
     "text": [
      "RuntimeError: (sqlite3.OperationalError) foreign key mismatch - \"History\" referencing \"Records\"\n",
      "[SQL: INSERT INTO Item (itemID, name, author, category, genre, status) VALUES\n",
      "(4440, 'Harry Potter and the Sorcerer''s Stone', 'J.K. Rowling', 'Book', 'Fantasy', 'Available'),\n",
      "(NULL, 'Harry Potter and the Chamber of Secrets', 'J.K. Rowling', 'Book', 'Fantasy', 'Unavailable'),\n",
      "(NULL, 'Harry Potter and the Prisoner of Azkaban', 'J.K. Rowling', 'Book', 'Fantasy', 'Available'),\n",
      "(NULL, 'The Hobbit', 'J.R.R. Tolkien', 'Book', 'Fantasy', 'Available'),\n",
      "(NULL, '1984', 'George Orwell', 'Book', 'Dystopian', 'Unavailable'),\n",
      "(NULL, 'To Kill a Mockingbird', 'Harper Lee', 'Book', 'Classic', 'Available'),\n",
      "(NULL, 'The Catcher in the Rye', 'J.D. Salinger', 'Book', 'Classic', 'Unavailable'),\n",
      "(NULL, 'Pride and Prejudice', 'Jane Austen', 'Book', 'Romance', 'Available'),\n",
      "(NULL, 'Rock Legends Collection', 'Various Artists', 'CD', 'Rock', 'Available'),\n",
      "(NULL, 'Jazz Classics', 'Various Artists', 'CD', 'Jazz', 'Unavailable');]\n",
      "(Background on this error at: https://sqlalche.me/e/20/e3q8)\n",
      "If you need help solving this issue, send us a message: https://ploomber.io/community\n"
     ]
    }
   ],
   "source": [
    "%%sql\n",
    "--Items\n",
    "INSERT INTO Item (itemID, name, author, category, genre, status) VALUES\n",
    "(4440, 'Harry Potter and the Sorcerer''s Stone', 'J.K. Rowling', 'Book', 'Fantasy', 'Available'),\n",
    "(NULL, 'Harry Potter and the Chamber of Secrets', 'J.K. Rowling', 'Book', 'Fantasy', 'Unavailable'),\n",
    "(NULL, 'Harry Potter and the Prisoner of Azkaban', 'J.K. Rowling', 'Book', 'Fantasy', 'Available'),\n",
    "(NULL, 'The Hobbit', 'J.R.R. Tolkien', 'Book', 'Fantasy', 'Available'),\n",
    "(NULL, '1984', 'George Orwell', 'Book', 'Dystopian', 'Unavailable'),\n",
    "(NULL, 'To Kill a Mockingbird', 'Harper Lee', 'Book', 'Classic', 'Available'),\n",
    "(NULL, 'The Catcher in the Rye', 'J.D. Salinger', 'Book', 'Classic', 'Unavailable'),\n",
    "(NULL, 'Pride and Prejudice', 'Jane Austen', 'Book', 'Romance', 'Available'),\n",
    "(NULL, 'Rock Legends Collection', 'Various Artists', 'CD', 'Rock', 'Available'),\n",
    "(NULL, 'Jazz Classics', 'Various Artists', 'CD', 'Jazz', 'Unavailable');"
   ]
  },
  {
   "cell_type": "code",
   "execution_count": null,
   "metadata": {},
   "outputs": [],
   "source": [
    "%%sql\n",
    "SELECT * FROM Item;"
   ]
  },
  {
   "cell_type": "markdown",
   "metadata": {},
   "source": [
    "#### Indexes"
   ]
  },
  {
   "cell_type": "code",
   "execution_count": null,
   "metadata": {},
   "outputs": [],
   "source": [
    "%%sql\n",
    "\n",
    "CREATE INDEX ItemIndex ON Item(name, author);"
   ]
  },
  {
   "cell_type": "markdown",
   "metadata": {},
   "source": [
    "#### FOR TESTING PURPOSES\n",
    "Delete tables if you need to"
   ]
  },
  {
   "cell_type": "code",
   "execution_count": 183,
   "metadata": {},
   "outputs": [
    {
     "data": {
      "text/html": [
       "<span style=\"None\">Running query in &#x27;sqlite:///library.db&#x27;</span>"
      ],
      "text/plain": [
       "Running query in 'sqlite:///library.db'"
      ]
     },
     "metadata": {},
     "output_type": "display_data"
    },
    {
     "data": {
      "text/html": [
       "<table>\n",
       "    <thead>\n",
       "        <tr>\n",
       "        </tr>\n",
       "    </thead>\n",
       "    <tbody>\n",
       "    </tbody>\n",
       "</table>"
      ],
      "text/plain": [
       "++\n",
       "||\n",
       "++\n",
       "++"
      ]
     },
     "execution_count": 183,
     "metadata": {},
     "output_type": "execute_result"
    }
   ],
   "source": [
    "%%sql \n",
    "-- Disable foreign key checks temporarily\n",
    "PRAGMA foreign_keys = OFF;\n",
    "\n",
    "-- Drop all tables (starting with those with foreign keys)\n",
    "DROP TABLE IF EXISTS Hold;\n",
    "DROP TABLE IF EXISTS Located;\n",
    "DROP TABLE IF EXISTS Events;\n",
    "DROP TABLE IF EXISTS Staff;\n",
    "DROP TABLE IF EXISTS Volunteer;\n",
    "DROP TABLE IF EXISTS Borrow;\n",
    "DROP TABLE IF EXISTS BorrowTransactions;\n",
    "DROP TABLE IF EXISTS Records;\n",
    "DROP TABLE IF EXISTS Fines;\n",
    "DROP TABLE IF EXISTS Owes;\n",
    "DROP TABLE IF EXISTS Item;\n",
    "DROP TABLE IF EXISTS Member;\n",
    "DROP TABLE IF EXISTS Room;\n",
    "\n",
    "-- Re-enable foreign key checks\n",
    "PRAGMA foreign_keys = ON;\n"
   ]
  }
 ],
 "metadata": {
  "kernelspec": {
   "display_name": "base",
   "language": "python",
   "name": "python3"
  },
  "language_info": {
   "codemirror_mode": {
    "name": "ipython",
    "version": 3
   },
   "file_extension": ".py",
   "mimetype": "text/x-python",
   "name": "python",
   "nbconvert_exporter": "python",
   "pygments_lexer": "ipython3",
   "version": "3.12.3"
  }
 },
 "nbformat": 4,
 "nbformat_minor": 2
}
