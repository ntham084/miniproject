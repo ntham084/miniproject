{
 "cells": [
  {
   "cell_type": "markdown",
   "metadata": {},
   "source": [
    "# HW3.  Database Design"
   ]
  },
  {
   "cell_type": "markdown",
   "metadata": {},
   "source": [
    "### Library Relations"
   ]
  },
  {
   "cell_type": "markdown",
   "metadata": {},
   "source": [
    "- Member = {<span style=\"text-decoration:underline\">memberID</span>, name, birthday}\n",
    "- Borrow = {<span style=\"text-decoration:underline\">borrowID</span><span style=\"text-decoration:underline\">memberID</span>,<span style=\"text-decoration:underline\">itemID</span>}\n",
    "- BorrowTransactions = {<span style=\"text-decoration:underline\">borrowID</span>, borrowDate, returnDate}\n",
    "- Owes = {<span style=\"text-decoration:underline\">fineID</span><span style=\"text-decoration:underline\">memberID</span>,<span style=\"text-decoration:underline\">itemID</span>}\n",
    "- Fines = {<span style=\"text-decoration:underline\">fineID</span>, status, amount}\n",
    "- Item = {<span style=\"text-decoration:underline\">itemID</span>, name, author, genre, status}\n",
    "- History = {<span style=\"text-decoration:underline\">itemID</span>, <span style=\"text-decoration:underline\">recordID</span>}\n",
    "- Records = {<span style=\"text-decoration:underline\">recordID</span>, status, lastUpdated}\n",
    "- Volunteers = {<span style=\"text-decoration:underline\">memberID</span>,<span style=\"text-decoration:underline\">staffID</span>}\n",
    "- Works = {<span style=\"text-decoration:underline\">memberID</span>,<span style=\"text-decoration:underline\">staffID</span>}\n",
    "- Staff = {<span style=\"text-decoration:underline\">staffID</span>, name, position, employmentDate, wage}\n",
    "- Hold = {{<span style=\"text-decoration:underline\">staffID</span>,<span style=\"text-decoration:underline\">eventID</span>}}\n",
    "- Attends = {<span style=\"text-decoration:underline\">memberID</span>, <span style=\"text-decoration:underline\">eventID</span>}\n",
    "- Events = {<span style=\"text-decoration:underline\">eventID</span>, name, scheduledTime, scheduledDate, targetAudience}\n",
    "- Located = {<span style=\"text-decoration:underline\">eventID</span>, <span style=\"text-decoration:underline\">roomNum</span>}\n",
    "- Room = {<span style=\"text-decoration:underline\">roomNum</span>, maxCap}"
   ]
  },
  {
   "cell_type": "markdown",
   "metadata": {},
   "source": [
    "#### Creating Database"
   ]
  },
  {
   "cell_type": "code",
   "execution_count": 1,
   "metadata": {},
   "outputs": [],
   "source": [
    "%load_ext sql"
   ]
  },
  {
   "cell_type": "code",
   "execution_count": 2,
   "metadata": {},
   "outputs": [
    {
     "data": {
      "text/html": [
       "<span style=\"None\">Connecting to &#x27;sqlite:///library.db&#x27;</span>"
      ],
      "text/plain": [
       "Connecting to 'sqlite:///library.db'"
      ]
     },
     "metadata": {},
     "output_type": "display_data"
    }
   ],
   "source": [
    "%sql sqlite:///library.db"
   ]
  },
  {
   "cell_type": "code",
   "execution_count": 3,
   "metadata": {},
   "outputs": [
    {
     "data": {
      "text/html": [
       "<span style=\"None\">Running query in &#x27;sqlite:///library.db&#x27;</span>"
      ],
      "text/plain": [
       "Running query in 'sqlite:///library.db'"
      ]
     },
     "metadata": {},
     "output_type": "display_data"
    },
    {
     "data": {
      "text/html": [
       "<table>\n",
       "    <thead>\n",
       "        <tr>\n",
       "        </tr>\n",
       "    </thead>\n",
       "    <tbody>\n",
       "    </tbody>\n",
       "</table>"
      ],
      "text/plain": [
       "++\n",
       "||\n",
       "++\n",
       "++"
      ]
     },
     "execution_count": 3,
     "metadata": {},
     "output_type": "execute_result"
    }
   ],
   "source": [
    "%%sql\n",
    "\n",
    "CREATE TABLE Member (\n",
    "    memberID INTEGER PRIMARY KEY,\n",
    "    name VARCHAR(100),\n",
    "    birthday DATE,\n",
    "    status VARCHAR(8) CHECK (status IN ('Active', 'Inactive'))\n",
    ");\n",
    "\n",
    "CREATE TABLE Borrow (\n",
    "    borrowID INTEGER PRIMARY KEY,\n",
    "    memberID INTEGER,\n",
    "    itemID INTEGER,\n",
    "    FOREIGN KEY (borrowID) REFERENCES BorrowTransactions(borrowID),\n",
    "    FOREIGN KEY (memberID) REFERENCES Member(memberID),\n",
    "    FOREIGN KEY (itemID) REFERENCES Item(itemID)\n",
    ");\n",
    "\n",
    "\n",
    "CREATE TABLE BorrowTransactions (\n",
    "    borrowID INTEGER PRIMARY KEY,\n",
    "    borrowDate DATE,\n",
    "    returnDate DATE\n",
    ");\n",
    "\n",
    "CREATE TABLE Owes (\n",
    "    fineID INTEGER PRIMARY KEY,\n",
    "    memberID INTEGER,\n",
    "    itemID INTEGER,\n",
    "    FOREIGN KEY (fineID) REFERENCES Fines(fineID),\n",
    "    FOREIGN KEY (memberID) REFERENCES Member(memberID),\n",
    "    FOREIGN KEY (itemID) REFERENCES Item(itemID)\n",
    ");\n",
    "\n",
    "CREATE TABLE Fines (\n",
    "    fineID INTEGER PRIMARY KEY,\n",
    "    status VARCHAR(6) CHECK (status IN ('Paid', 'Unpaid')),\n",
    "    amount DECIMAL(10,2) CHECK (amount >= 0)\n",
    ");\n",
    "\n",
    "CREATE TABLE Item (\n",
    "    itemID INTEGER PRIMARY KEY,\n",
    "    name VARCHAR(255),\n",
    "    author VARCHAR(100),\n",
    "    category VARCHAR(50),\n",
    "    genre VARCHAR(50),\n",
    "    status VARCHAR(11) CHECK (status IN ('Available', 'Unavailable'))\n",
    ");\n",
    "\n",
    "CREATE TABLE History (\n",
    "    itemID INTEGER,\n",
    "    recordID INTEGER,\n",
    "    PRIMARY KEY (itemID, recordID),\n",
    "    FOREIGN KEY (itemID) REFERENCES Item(itemID),\n",
    "    FOREIGN KEY (recordID) REFERENCES Records(recordID)\n",
    ");\n",
    "\n",
    "CREATE TABLE Records (\n",
    "    recordID INTEGER PRIMARY KEY,\n",
    "    status VARCHAR(20) CHECK (status IN ('In System', 'Awaiting Approval', 'Archived')),\n",
    "    lastUpdated DATE\n",
    ");\n",
    "\n",
    "CREATE TABLE Staff (\n",
    "    memberID INTEGER,\n",
    "    staffID INTEGER PRIMARY KEY,\n",
    "    position VARCHAR(50),\n",
    "    wage DECIMAL(10,2),\n",
    "    employmentDate DATE,\n",
    "    FOREIGN KEY (memberID) REFERENCES Member(memberID)\n",
    ");\n",
    "\n",
    "CREATE TABLE Volunteer (\n",
    "    memberID INTEGER,\n",
    "    volunteerID INTEGER PRIMARY KEY,\n",
    "    employmentDate DATE,\n",
    "    FOREIGN KEY (memberID) REFERENCES Member(memberID)\n",
    ");\n",
    "\n",
    "CREATE TABLE Hold (\n",
    "    staffID INTEGER,\n",
    "    eventID INTEGER,\n",
    "    PRIMARY KEY (staffID, eventID),\n",
    "    FOREIGN KEY (staffID) REFERENCES Staff(staffID),\n",
    "    FOREIGN KEY (eventID) REFERENCES Events(eventID)\n",
    ");\n",
    "\n",
    "CREATE TABLE Events (\n",
    "    eventID INTEGER PRIMARY KEY,\n",
    "    name VARCHAR(100),\n",
    "    scheduledTime TIME,\n",
    "    scheduledDate DATE,\n",
    "    targetAudience VARCHAR(100)\n",
    ");\n",
    "\n",
    "CREATE TABLE Located (\n",
    "    eventID INTEGER,\n",
    "    roomNum INTEGER,\n",
    "    PRIMARY KEY (eventID, roomNum),\n",
    "    FOREIGN KEY (eventID) REFERENCES Events(eventID),\n",
    "    FOREIGN KEY (roomNum) REFERENCES Room(roomNum)\n",
    ");\n",
    "\n",
    "CREATE TABLE Room (\n",
    "    roomNum INTEGER PRIMARY KEY,\n",
    "    maxCap INTEGER\n",
    ");"
   ]
  },
  {
   "cell_type": "markdown",
   "metadata": {},
   "source": [
    "#### Triggers"
   ]
  },
  {
   "cell_type": "code",
   "execution_count": 4,
   "metadata": {},
   "outputs": [
    {
     "data": {
      "text/html": [
       "<span style=\"None\">Running query in &#x27;sqlite:///library.db&#x27;</span>"
      ],
      "text/plain": [
       "Running query in 'sqlite:///library.db'"
      ]
     },
     "metadata": {},
     "output_type": "display_data"
    },
    {
     "data": {
      "text/html": [
       "<table>\n",
       "    <thead>\n",
       "        <tr>\n",
       "        </tr>\n",
       "    </thead>\n",
       "    <tbody>\n",
       "    </tbody>\n",
       "</table>"
      ],
      "text/plain": [
       "++\n",
       "||\n",
       "++\n",
       "++"
      ]
     },
     "execution_count": 4,
     "metadata": {},
     "output_type": "execute_result"
    }
   ],
   "source": [
    "%%sql\n",
    "CREATE TRIGGER update_fine_status\n",
    "AFTER UPDATE ON Fines\n",
    "FOR EACH ROW\n",
    "BEGIN\n",
    "    -- Automatically update fine status when the fine amount is paid\n",
    "    UPDATE Fines\n",
    "    SET status = 'Paid'\n",
    "    WHERE fineID = NEW.fineID AND NEW.amount = 0;\n",
    "END;\n"
   ]
  },
  {
   "cell_type": "code",
   "execution_count": 5,
   "metadata": {},
   "outputs": [
    {
     "data": {
      "text/html": [
       "<span style=\"None\">Running query in &#x27;sqlite:///library.db&#x27;</span>"
      ],
      "text/plain": [
       "Running query in 'sqlite:///library.db'"
      ]
     },
     "metadata": {},
     "output_type": "display_data"
    },
    {
     "data": {
      "text/html": [
       "<table>\n",
       "    <thead>\n",
       "        <tr>\n",
       "        </tr>\n",
       "    </thead>\n",
       "    <tbody>\n",
       "    </tbody>\n",
       "</table>"
      ],
      "text/plain": [
       "++\n",
       "||\n",
       "++\n",
       "++"
      ]
     },
     "execution_count": 5,
     "metadata": {},
     "output_type": "execute_result"
    }
   ],
   "source": [
    "%%sql\n",
    "CREATE TRIGGER generate_late_fine\n",
    "AFTER INSERT ON BorrowTransactions\n",
    "FOR EACH ROW\n",
    "BEGIN\n",
    "    -- Check if the return date is past the due date and generate a fine\n",
    "    INSERT INTO Fines (memberID, itemID, status, amount)\n",
    "    SELECT NEW.memberID, NEW.itemID, 'Unpaid', 10.00\n",
    "    WHERE NEW.returnDate > (SELECT dueDate FROM Borrow WHERE borrowID = NEW.borrowID);\n",
    "END;\n"
   ]
  },
  {
   "cell_type": "code",
   "execution_count": 6,
   "metadata": {},
   "outputs": [
    {
     "data": {
      "text/html": [
       "<span style=\"None\">Running query in &#x27;sqlite:///library.db&#x27;</span>"
      ],
      "text/plain": [
       "Running query in 'sqlite:///library.db'"
      ]
     },
     "metadata": {},
     "output_type": "display_data"
    },
    {
     "data": {
      "text/html": [
       "<table>\n",
       "    <thead>\n",
       "        <tr>\n",
       "        </tr>\n",
       "    </thead>\n",
       "    <tbody>\n",
       "    </tbody>\n",
       "</table>"
      ],
      "text/plain": [
       "++\n",
       "||\n",
       "++\n",
       "++"
      ]
     },
     "execution_count": 6,
     "metadata": {},
     "output_type": "execute_result"
    }
   ],
   "source": [
    "%%sql\n",
    "CREATE TRIGGER prevent_borrow_if_fine_unpaid\n",
    "BEFORE INSERT ON Borrow\n",
    "FOR EACH ROW\n",
    "BEGIN\n",
    "    -- Check if the member has an unpaid fine\n",
    "    SELECT RAISE(ABORT, 'Cannot borrow item. Member has unpaid fines.')\n",
    "    FROM Fines\n",
    "    WHERE memberID = NEW.memberID AND status = 'Unpaid'\n",
    "    LIMIT 1;\n",
    "END;\n"
   ]
  },
  {
   "cell_type": "code",
   "execution_count": 7,
   "metadata": {},
   "outputs": [
    {
     "data": {
      "text/html": [
       "<span style=\"None\">Running query in &#x27;sqlite:///library.db&#x27;</span>"
      ],
      "text/plain": [
       "Running query in 'sqlite:///library.db'"
      ]
     },
     "metadata": {},
     "output_type": "display_data"
    },
    {
     "data": {
      "text/html": [
       "<table>\n",
       "    <thead>\n",
       "        <tr>\n",
       "        </tr>\n",
       "    </thead>\n",
       "    <tbody>\n",
       "    </tbody>\n",
       "</table>"
      ],
      "text/plain": [
       "++\n",
       "||\n",
       "++\n",
       "++"
      ]
     },
     "execution_count": 7,
     "metadata": {},
     "output_type": "execute_result"
    }
   ],
   "source": [
    "%%sql\n",
    "CREATE TRIGGER auto_archive_record\n",
    "AFTER UPDATE ON Records\n",
    "FOR EACH ROW\n",
    "BEGIN\n",
    "    -- Automatically archive record when status changes to 'Archived'\n",
    "    SELECT RAISE(ABORT, 'Archiving record') \n",
    "    WHERE NEW.status = 'Archived' AND NOT EXISTS (SELECT 1 FROM ArchivedRecords WHERE recordID = NEW.recordID);\n",
    "\n",
    "    -- Insert the record into the ArchivedRecords table\n",
    "    INSERT INTO ArchivedRecords (recordID, lastUpdated)\n",
    "    VALUES (NEW.recordID, CURRENT_DATE);\n",
    "END;\n"
   ]
  },
  {
   "cell_type": "code",
   "execution_count": 8,
   "metadata": {},
   "outputs": [
    {
     "data": {
      "text/html": [
       "<span style=\"None\">Running query in &#x27;sqlite:///library.db&#x27;</span>"
      ],
      "text/plain": [
       "Running query in 'sqlite:///library.db'"
      ]
     },
     "metadata": {},
     "output_type": "display_data"
    },
    {
     "data": {
      "text/html": [
       "<table>\n",
       "    <thead>\n",
       "        <tr>\n",
       "        </tr>\n",
       "    </thead>\n",
       "    <tbody>\n",
       "    </tbody>\n",
       "</table>"
      ],
      "text/plain": [
       "++\n",
       "||\n",
       "++\n",
       "++"
      ]
     },
     "execution_count": 8,
     "metadata": {},
     "output_type": "execute_result"
    }
   ],
   "source": [
    "%%sql\n",
    "CREATE TRIGGER prevent_item_deletion_if_borrowed\n",
    "BEFORE DELETE ON Item\n",
    "FOR EACH ROW\n",
    "BEGIN\n",
    "    -- Prevent item deletion if it is still borrowed\n",
    "    SELECT RAISE(ABORT, 'Item cannot be deleted as it is currently borrowed.')\n",
    "    WHERE EXISTS (SELECT 1 FROM Borrow WHERE itemID = OLD.itemID);\n",
    "END;\n"
   ]
  },
  {
   "cell_type": "markdown",
   "metadata": {},
   "source": [
    "#### Indexes"
   ]
  },
  {
   "cell_type": "code",
   "execution_count": 9,
   "metadata": {},
   "outputs": [
    {
     "data": {
      "text/html": [
       "<span style=\"None\">Running query in &#x27;sqlite:///library.db&#x27;</span>"
      ],
      "text/plain": [
       "Running query in 'sqlite:///library.db'"
      ]
     },
     "metadata": {},
     "output_type": "display_data"
    },
    {
     "data": {
      "text/html": [
       "<table>\n",
       "    <thead>\n",
       "        <tr>\n",
       "        </tr>\n",
       "    </thead>\n",
       "    <tbody>\n",
       "    </tbody>\n",
       "</table>"
      ],
      "text/plain": [
       "++\n",
       "||\n",
       "++\n",
       "++"
      ]
     },
     "execution_count": 9,
     "metadata": {},
     "output_type": "execute_result"
    }
   ],
   "source": [
    "%%sql\n",
    "\n",
    "CREATE INDEX ItemIndex ON Item(name, author);"
   ]
  },
  {
   "cell_type": "markdown",
   "metadata": {},
   "source": [
    "#### FOR TESTING PURPOSES\n",
    "Delete tables if you need to"
   ]
  },
  {
   "cell_type": "code",
   "execution_count": null,
   "metadata": {},
   "outputs": [],
   "source": [
    "%%sql \n",
    "-- Disable foreign key checks temporarily\n",
    "PRAGMA foreign_keys = OFF;\n",
    "\n",
    "-- Drop all tables (starting with those with foreign keys)\n",
    "DROP TABLE IF EXISTS Hold;\n",
    "DROP TABLE IF EXISTS Located;\n",
    "DROP TABLE IF EXISTS Events;\n",
    "DROP TABLE IF EXISTS Staff;\n",
    "DROP TABLE IF EXISTS Volunteer;\n",
    "DROP TABLE IF EXISTS Borrow;\n",
    "DROP TABLE IF EXISTS BorrowTransactions;\n",
    "DROP TABLE IF EXISTS History;\n",
    "DROP TABLE IF EXISTS Records;\n",
    "DROP TABLE IF EXISTS Fines;\n",
    "DROP TABLE IF EXISTS Owes;\n",
    "DROP TABLE IF EXISTS Item;\n",
    "DROP TABLE IF EXISTS Member;\n",
    "DROP TABLE IF EXISTS Room;\n",
    "\n",
    "-- Re-enable foreign key checks\n",
    "PRAGMA foreign_keys = ON;\n"
   ]
  }
 ],
 "metadata": {
  "kernelspec": {
   "display_name": "base",
   "language": "python",
   "name": "python3"
  },
  "language_info": {
   "codemirror_mode": {
    "name": "ipython",
    "version": 3
   },
   "file_extension": ".py",
   "mimetype": "text/x-python",
   "name": "python",
   "nbconvert_exporter": "python",
   "pygments_lexer": "ipython3",
   "version": "3.12.2"
  }
 },
 "nbformat": 4,
 "nbformat_minor": 2
}
