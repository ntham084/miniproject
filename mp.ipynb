{
 "cells": [
  {
   "cell_type": "markdown",
   "metadata": {},
   "source": [
    "# HW3.  Database Design"
   ]
  },
  {
   "cell_type": "markdown",
   "metadata": {},
   "source": [
    "### Library Relations"
   ]
  },
  {
   "cell_type": "markdown",
   "metadata": {},
   "source": [
    "- Member = {<span style=\"text-decoration:underline\">memberID</span>, name, birthday}\n",
    "- Borrow = {<span style=\"text-decoration:underline\">borrowID</span><span style=\"text-decoration:underline\">memberID</span>,<span style=\"text-decoration:underline\">itemID</span>}\n",
    "- BorrowTransactions = {<span style=\"text-decoration:underline\">borrowID</span>, borrowDate, returnDate}\n",
    "- Owes = {<span style=\"text-decoration:underline\">fineID</span><span style=\"text-decoration:underline\">memberID</span>,<span style=\"text-decoration:underline\">itemID</span>}\n",
    "- Fines = {<span style=\"text-decoration:underline\">fineID</span>, status, amount}\n",
    "- Item = {<span style=\"text-decoration:underline\">itemID</span>, name, author, genre, status}\n",
    "- History = {<span style=\"text-decoration:underline\">itemID</span>, <span style=\"text-decoration:underline\">recordID</span>}\n",
    "- Records = {<span style=\"text-decoration:underline\">recordID</span>, status, lastUpdated}\n",
    "- Volunteers = {<span style=\"text-decoration:underline\">memberID</span>,<span style=\"text-decoration:underline\">staffID</span>}\n",
    "- Works = {<span style=\"text-decoration:underline\">memberID</span>,<span style=\"text-decoration:underline\">staffID</span>}\n",
    "- Staff = {<span style=\"text-decoration:underline\">staffID</span>, name, position, employmentDate, wage}\n",
    "- Hold = {{<span style=\"text-decoration:underline\">staffID</span>,<span style=\"text-decoration:underline\">eventID</span>}}\n",
    "- Attends = {<span style=\"text-decoration:underline\">memberID</span>, <span style=\"text-decoration:underline\">eventID</span>}\n",
    "- Events = {<span style=\"text-decoration:underline\">eventID</span>, name, scheduledTime, scheduledDate, targetAudience}\n",
    "- Located = {<span style=\"text-decoration:underline\">eventID</span>, <span style=\"text-decoration:underline\">roomNum</span>}\n",
    "- Room = {<span style=\"text-decoration:underline\">roomNum</span>, maxCap}"
   ]
  },
  {
   "cell_type": "markdown",
   "metadata": {},
   "source": [
    "#### Creating Database"
   ]
  },
  {
   "cell_type": "code",
   "execution_count": 37,
   "metadata": {},
   "outputs": [
    {
     "name": "stdout",
     "output_type": "stream",
     "text": [
      "The sql extension is already loaded. To reload it, use:\n",
      "  %reload_ext sql\n"
     ]
    }
   ],
   "source": [
    "%load_ext sql"
   ]
  },
  {
   "cell_type": "code",
   "execution_count": 38,
   "metadata": {},
   "outputs": [],
   "source": [
    "%sql sqlite:///library.db"
   ]
  },
  {
   "cell_type": "code",
   "execution_count": 39,
   "metadata": {},
   "outputs": [
    {
     "data": {
      "text/html": [
       "<span style=\"None\">Running query in &#x27;sqlite:///library.db&#x27;</span>"
      ],
      "text/plain": [
       "Running query in 'sqlite:///library.db'"
      ]
     },
     "metadata": {},
     "output_type": "display_data"
    },
    {
     "data": {
      "text/html": [
       "<table>\n",
       "    <thead>\n",
       "        <tr>\n",
       "        </tr>\n",
       "    </thead>\n",
       "    <tbody>\n",
       "    </tbody>\n",
       "</table>"
      ],
      "text/plain": [
       "++\n",
       "||\n",
       "++\n",
       "++"
      ]
     },
     "execution_count": 39,
     "metadata": {},
     "output_type": "execute_result"
    }
   ],
   "source": [
    "%%sql\n",
    "\n",
    "CREATE TABLE Member (\n",
    "    memberID INTEGER PRIMARY KEY,\n",
    "    name VARCHAR(100),\n",
    "    birthday DATE,\n",
    "    status VARCHAR(8) CHECK (status IN ('Active', 'Inactive'))\n",
    ");\n",
    "\n",
    "CREATE TABLE Borrow (\n",
    "    borrowID INTEGER PRIMARY KEY,\n",
    "    memberID INTEGER,\n",
    "    itemID INTEGER,\n",
    "    FOREIGN KEY (borrowID) REFERENCES BorrowTransactions(borrowID),\n",
    "    FOREIGN KEY (memberID) REFERENCES Member(memberID),\n",
    "    FOREIGN KEY (itemID) REFERENCES Item(itemID)\n",
    ");\n",
    "\n",
    "\n",
    "CREATE TABLE BorrowTransactions (\n",
    "    borrowID INTEGER PRIMARY KEY,\n",
    "    borrowDate DATE,\n",
    "    returnDate DATE\n",
    ");\n",
    "\n",
    "CREATE TABLE Owes (\n",
    "    fineID INTEGER PRIMARY KEY,\n",
    "    memberID INTEGER,\n",
    "    itemID INTEGER,\n",
    "    FOREIGN KEY (fineID) REFERENCES Fines(fineID),\n",
    "    FOREIGN KEY (memberID) REFERENCES Member(memberID),\n",
    "    FOREIGN KEY (itemID) REFERENCES Item(itemID)\n",
    ");\n",
    "\n",
    "CREATE TABLE Fines (\n",
    "    fineID INTEGER PRIMARY KEY,\n",
    "    status VARCHAR(6) CHECK (status IN ('Paid', 'Unpaid')),\n",
    "    amount DECIMAL(10,2) CHECK (amount >= 0)\n",
    ");\n",
    "\n",
    "CREATE TABLE Item (\n",
    "    itemID INTEGER PRIMARY KEY,\n",
    "    name VARCHAR(255),\n",
    "    author VARCHAR(100),\n",
    "    category VARCHAR(50),\n",
    "    genre VARCHAR(50),\n",
    "    status VARCHAR(11) CHECK (status IN ('Available', 'Unavailable'))\n",
    ");\n",
    "\n",
    "CREATE TABLE History (\n",
    "    itemID INTEGER,\n",
    "    recordID INTEGER,\n",
    "    PRIMARY KEY (itemID, recordID),\n",
    "    FOREIGN KEY (itemID) REFERENCES Item(itemID),\n",
    "    FOREIGN KEY (recordID) REFERENCES Records(recordID)\n",
    ");\n",
    "\n",
    "CREATE TABLE Records (\n",
    "    recordID INTEGER PRIMARY KEY,\n",
    "    status VARCHAR(20) CHECK (status IN ('In System', 'Awaiting Approval', 'Archived')),\n",
    "    lastUpdated DATE\n",
    ");\n",
    "\n",
    "CREATE TABLE Staff (\n",
    "    memberID INTEGER,\n",
    "    staffID INTEGER PRIMARY KEY,\n",
    "    position VARCHAR(50),\n",
    "    wage DECIMAL(10,2),\n",
    "    employmentDate DATE,\n",
    "    FOREIGN KEY (memberID) REFERENCES Member(memberID)\n",
    ");\n",
    "\n",
    "CREATE TABLE Volunteer (\n",
    "    memberID INTEGER,\n",
    "    volunteerID INTEGER PRIMARY KEY,\n",
    "    employmentDate DATE,\n",
    "    FOREIGN KEY (memberID) REFERENCES Member(memberID)\n",
    ");\n",
    "\n",
    "CREATE TABLE Hold (\n",
    "    staffID INTEGER,\n",
    "    eventID INTEGER,\n",
    "    PRIMARY KEY (staffID, eventID),\n",
    "    FOREIGN KEY (staffID) REFERENCES Staff(staffID),\n",
    "    FOREIGN KEY (eventID) REFERENCES Events(eventID)\n",
    ");\n",
    "\n",
    "CREATE TABLE Events (\n",
    "    eventID INTEGER PRIMARY KEY,\n",
    "    name VARCHAR(100),\n",
    "    scheduledTime TIME,\n",
    "    scheduledDate DATE,\n",
    "    targetAudience VARCHAR(100)\n",
    ");\n",
    "\n",
    "CREATE TABLE Located (\n",
    "    eventID INTEGER,\n",
    "    roomNum INTEGER,\n",
    "    PRIMARY KEY (eventID, roomNum),\n",
    "    FOREIGN KEY (eventID) REFERENCES Events(eventID),\n",
    "    FOREIGN KEY (roomNum) REFERENCES Room(roomNum)\n",
    ");\n",
    "\n",
    "CREATE TABLE Room (\n",
    "    roomNum INTEGER PRIMARY KEY,\n",
    "    maxCap INTEGER\n",
    ");"
   ]
  },
  {
   "cell_type": "markdown",
   "metadata": {},
   "source": [
    "#### Triggers"
   ]
  },
  {
   "cell_type": "code",
   "execution_count": 40,
   "metadata": {},
   "outputs": [
    {
     "data": {
      "text/html": [
       "<span style=\"None\">Running query in &#x27;sqlite:///library.db&#x27;</span>"
      ],
      "text/plain": [
       "Running query in 'sqlite:///library.db'"
      ]
     },
     "metadata": {},
     "output_type": "display_data"
    },
    {
     "data": {
      "text/html": [
       "<table>\n",
       "    <thead>\n",
       "        <tr>\n",
       "        </tr>\n",
       "    </thead>\n",
       "    <tbody>\n",
       "    </tbody>\n",
       "</table>"
      ],
      "text/plain": [
       "++\n",
       "||\n",
       "++\n",
       "++"
      ]
     },
     "execution_count": 40,
     "metadata": {},
     "output_type": "execute_result"
    }
   ],
   "source": [
    "%%sql\n",
    "CREATE TRIGGER update_fine_status\n",
    "AFTER UPDATE ON Fines\n",
    "FOR EACH ROW\n",
    "BEGIN\n",
    "    -- Automatically update fine status when the fine amount is paid\n",
    "    UPDATE Fines\n",
    "    SET status = 'Paid'\n",
    "    WHERE fineID = NEW.fineID AND NEW.amount = 0;\n",
    "END;\n"
   ]
  },
  {
   "cell_type": "code",
   "execution_count": 41,
   "metadata": {},
   "outputs": [
    {
     "data": {
      "text/html": [
       "<span style=\"None\">Running query in &#x27;sqlite:///library.db&#x27;</span>"
      ],
      "text/plain": [
       "Running query in 'sqlite:///library.db'"
      ]
     },
     "metadata": {},
     "output_type": "display_data"
    },
    {
     "data": {
      "text/html": [
       "<table>\n",
       "    <thead>\n",
       "        <tr>\n",
       "        </tr>\n",
       "    </thead>\n",
       "    <tbody>\n",
       "    </tbody>\n",
       "</table>"
      ],
      "text/plain": [
       "++\n",
       "||\n",
       "++\n",
       "++"
      ]
     },
     "execution_count": 41,
     "metadata": {},
     "output_type": "execute_result"
    }
   ],
   "source": [
    "%%sql\n",
    "CREATE TRIGGER generate_late_fine\n",
    "AFTER INSERT ON BorrowTransactions\n",
    "FOR EACH ROW\n",
    "BEGIN\n",
    "    -- Check if the return date is past the due date and generate a fine\n",
    "    INSERT INTO Fines (memberID, itemID, status, amount)\n",
    "    SELECT NEW.memberID, NEW.itemID, 'Unpaid', 10.00\n",
    "    WHERE NEW.returnDate > (SELECT dueDate FROM Borrow WHERE borrowID = NEW.borrowID);\n",
    "END;\n"
   ]
  },
  {
   "cell_type": "code",
   "execution_count": 42,
   "metadata": {},
   "outputs": [
    {
     "data": {
      "text/html": [
       "<span style=\"None\">Running query in &#x27;sqlite:///library.db&#x27;</span>"
      ],
      "text/plain": [
       "Running query in 'sqlite:///library.db'"
      ]
     },
     "metadata": {},
     "output_type": "display_data"
    },
    {
     "data": {
      "text/html": [
       "<table>\n",
       "    <thead>\n",
       "        <tr>\n",
       "        </tr>\n",
       "    </thead>\n",
       "    <tbody>\n",
       "    </tbody>\n",
       "</table>"
      ],
      "text/plain": [
       "++\n",
       "||\n",
       "++\n",
       "++"
      ]
     },
     "execution_count": 42,
     "metadata": {},
     "output_type": "execute_result"
    }
   ],
   "source": [
    "%%sql\n",
    "CREATE TRIGGER prevent_borrow_if_fine_unpaid\n",
    "BEFORE INSERT ON Borrow\n",
    "FOR EACH ROW\n",
    "BEGIN\n",
    "    -- Check if the member has an unpaid fine\n",
    "    SELECT RAISE(ABORT, 'Cannot borrow item. Member has unpaid fines.')\n",
    "    FROM Fines\n",
    "    WHERE memberID = NEW.memberID AND status = 'Unpaid'\n",
    "    LIMIT 1;\n",
    "END;\n"
   ]
  },
  {
   "cell_type": "code",
   "execution_count": 43,
   "metadata": {},
   "outputs": [
    {
     "data": {
      "text/html": [
       "<span style=\"None\">Running query in &#x27;sqlite:///library.db&#x27;</span>"
      ],
      "text/plain": [
       "Running query in 'sqlite:///library.db'"
      ]
     },
     "metadata": {},
     "output_type": "display_data"
    },
    {
     "data": {
      "text/html": [
       "<table>\n",
       "    <thead>\n",
       "        <tr>\n",
       "        </tr>\n",
       "    </thead>\n",
       "    <tbody>\n",
       "    </tbody>\n",
       "</table>"
      ],
      "text/plain": [
       "++\n",
       "||\n",
       "++\n",
       "++"
      ]
     },
     "execution_count": 43,
     "metadata": {},
     "output_type": "execute_result"
    }
   ],
   "source": [
    "%%sql\n",
    "CREATE TRIGGER auto_archive_record\n",
    "AFTER UPDATE ON Records\n",
    "FOR EACH ROW\n",
    "BEGIN\n",
    "    -- Automatically archive record when status changes to 'Archived'\n",
    "    SELECT RAISE(ABORT, 'Archiving record') \n",
    "    WHERE NEW.status = 'Archived' AND NOT EXISTS (SELECT 1 FROM ArchivedRecords WHERE recordID = NEW.recordID);\n",
    "\n",
    "    -- Insert the record into the ArchivedRecords table\n",
    "    INSERT INTO ArchivedRecords (recordID, lastUpdated)\n",
    "    VALUES (NEW.recordID, CURRENT_DATE);\n",
    "END;\n"
   ]
  },
  {
   "cell_type": "code",
   "execution_count": 44,
   "metadata": {},
   "outputs": [
    {
     "data": {
      "text/html": [
       "<span style=\"None\">Running query in &#x27;sqlite:///library.db&#x27;</span>"
      ],
      "text/plain": [
       "Running query in 'sqlite:///library.db'"
      ]
     },
     "metadata": {},
     "output_type": "display_data"
    },
    {
     "data": {
      "text/html": [
       "<table>\n",
       "    <thead>\n",
       "        <tr>\n",
       "        </tr>\n",
       "    </thead>\n",
       "    <tbody>\n",
       "    </tbody>\n",
       "</table>"
      ],
      "text/plain": [
       "++\n",
       "||\n",
       "++\n",
       "++"
      ]
     },
     "execution_count": 44,
     "metadata": {},
     "output_type": "execute_result"
    }
   ],
   "source": [
    "%%sql\n",
    "CREATE TRIGGER prevent_item_deletion_if_borrowed\n",
    "BEFORE DELETE ON Item\n",
    "FOR EACH ROW\n",
    "BEGIN\n",
    "    -- Prevent item deletion if it is still borrowed\n",
    "    SELECT RAISE(ABORT, 'Item cannot be deleted as it is currently borrowed.')\n",
    "    WHERE EXISTS (SELECT 1 FROM Borrow WHERE itemID = OLD.itemID);\n",
    "END;\n"
   ]
  },
  {
   "cell_type": "code",
   "execution_count": 45,
   "metadata": {},
   "outputs": [
    {
     "data": {
      "text/html": [
       "<span style=\"None\">Running query in &#x27;sqlite:///library.db&#x27;</span>"
      ],
      "text/plain": [
       "Running query in 'sqlite:///library.db'"
      ]
     },
     "metadata": {},
     "output_type": "display_data"
    },
    {
     "data": {
      "text/html": [
       "<table>\n",
       "    <thead>\n",
       "        <tr>\n",
       "        </tr>\n",
       "    </thead>\n",
       "    <tbody>\n",
       "    </tbody>\n",
       "</table>"
      ],
      "text/plain": [
       "++\n",
       "||\n",
       "++\n",
       "++"
      ]
     },
     "execution_count": 45,
     "metadata": {},
     "output_type": "execute_result"
    }
   ],
   "source": [
    "%%sql\n",
    "CREATE TRIGGER set_member_id\n",
    "BEFORE INSERT ON Member\n",
    "FOR EACH ROW\n",
    "WHEN NEW.memberID IS NULL\n",
    "BEGIN\n",
    "    UPDATE Member\n",
    "    SET memberID = (\n",
    "        CASE \n",
    "            WHEN (SELECT MAX(memberID) FROM Member) IS NULL THEN 100\n",
    "            ELSE (SELECT MAX(memberID) FROM Member) + 1\n",
    "        END\n",
    "    )\n",
    "    WHERE rowid = NEW.rowid;\n",
    "END;\n"
   ]
  },
  {
   "cell_type": "code",
   "execution_count": 48,
   "metadata": {},
   "outputs": [
    {
     "data": {
      "text/html": [
       "<span style=\"None\">Running query in &#x27;sqlite:///library.db&#x27;</span>"
      ],
      "text/plain": [
       "Running query in 'sqlite:///library.db'"
      ]
     },
     "metadata": {},
     "output_type": "display_data"
    },
    {
     "data": {
      "text/html": [
       "<table>\n",
       "    <thead>\n",
       "        <tr>\n",
       "            <th>cid</th>\n",
       "            <th>name</th>\n",
       "            <th>type</th>\n",
       "            <th>notnull</th>\n",
       "            <th>dflt_value</th>\n",
       "            <th>pk</th>\n",
       "        </tr>\n",
       "    </thead>\n",
       "    <tbody>\n",
       "        <tr>\n",
       "            <td>0</td>\n",
       "            <td>fineID</td>\n",
       "            <td>INTEGER</td>\n",
       "            <td>0</td>\n",
       "            <td>None</td>\n",
       "            <td>1</td>\n",
       "        </tr>\n",
       "        <tr>\n",
       "            <td>1</td>\n",
       "            <td>status</td>\n",
       "            <td>VARCHAR(6)</td>\n",
       "            <td>0</td>\n",
       "            <td>None</td>\n",
       "            <td>0</td>\n",
       "        </tr>\n",
       "        <tr>\n",
       "            <td>2</td>\n",
       "            <td>amount</td>\n",
       "            <td>DECIMAL(10,2)</td>\n",
       "            <td>0</td>\n",
       "            <td>None</td>\n",
       "            <td>0</td>\n",
       "        </tr>\n",
       "    </tbody>\n",
       "</table>"
      ],
      "text/plain": [
       "+-----+--------+---------------+---------+------------+----+\n",
       "| cid |  name  |      type     | notnull | dflt_value | pk |\n",
       "+-----+--------+---------------+---------+------------+----+\n",
       "|  0  | fineID |    INTEGER    |    0    |    None    | 1  |\n",
       "|  1  | status |   VARCHAR(6)  |    0    |    None    | 0  |\n",
       "|  2  | amount | DECIMAL(10,2) |    0    |    None    | 0  |\n",
       "+-----+--------+---------------+---------+------------+----+"
      ]
     },
     "execution_count": 48,
     "metadata": {},
     "output_type": "execute_result"
    }
   ],
   "source": [
    "%%sql\n",
    "PRAGMA table_info(Fines)"
   ]
  },
  {
   "cell_type": "markdown",
   "metadata": {},
   "source": [
    "#### Inserts"
   ]
  },
  {
   "cell_type": "code",
   "execution_count": 47,
   "metadata": {},
   "outputs": [
    {
     "data": {
      "text/html": [
       "<span style=\"None\">Running query in &#x27;sqlite:///library.db&#x27;</span>"
      ],
      "text/plain": [
       "Running query in 'sqlite:///library.db'"
      ]
     },
     "metadata": {},
     "output_type": "display_data"
    },
    {
     "data": {
      "text/html": [
       "<span style=\"color: green\">10 rows affected.</span>"
      ],
      "text/plain": [
       "10 rows affected."
      ]
     },
     "metadata": {},
     "output_type": "display_data"
    },
    {
     "name": "stderr",
     "output_type": "stream",
     "text": [
      "RuntimeError: (sqlite3.OperationalError) table Fines has no column named memberID\n",
      "[SQL: INSERT INTO BorrowTransactions (borrowID, borrowDate, returnDate) VALUES\n",
      "(1, '2024-01-01', '2024-01-15'),\n",
      "(2, '2024-01-05', '2024-01-20'),\n",
      "(3, '2024-01-10', '2024-01-25'),\n",
      "(4, '2024-01-12', '2024-01-27'),\n",
      "(5, '2024-01-15', '2024-01-30'),\n",
      "(6, '2024-01-20', '2024-02-05'),\n",
      "(7, '2024-01-25', '2024-02-10'),\n",
      "(8, '2024-02-01', '2024-02-15'),\n",
      "(9, '2024-02-05', '2024-02-20'),\n",
      "(10, '2024-02-10', '2024-02-25');]\n",
      "(Background on this error at: https://sqlalche.me/e/20/e3q8)\n",
      "If you need help solving this issue, send us a message: https://ploomber.io/community\n"
     ]
    }
   ],
   "source": [
    "%%sql\n",
    "-- Insert data into Member\n",
    "INSERT INTO Member (name, birthday, status) VALUES\n",
    "('Alice Smith', '1990-01-15', 'Active'),\n",
    "('Bob Johnson', '1985-03-22', 'Active'),\n",
    "('Charlie Brown', '2000-07-09', 'Inactive'),\n",
    "('Diana Ross', '1995-12-30', 'Active'),\n",
    "('Ethan Hunt', '1992-08-18', 'Inactive'),\n",
    "('Fiona Apple', '1998-06-25', 'Active'),\n",
    "('George Lucas', '1980-11-05', 'Active'),\n",
    "('Helen Keller', '1975-05-14', 'Inactive'),\n",
    "('Isaac Newton', '1963-04-01', 'Active'),\n",
    "('Jack Sparrow', '1989-09-19', 'Active');\n",
    "\n",
    "-- Insert data into BorrowTransactions\n",
    "INSERT INTO BorrowTransactions (borrowID, borrowDate, returnDate) VALUES\n",
    "(1, '2024-01-01', '2024-01-15'),\n",
    "(2, '2024-01-05', '2024-01-20'),\n",
    "(3, '2024-01-10', '2024-01-25'),\n",
    "(4, '2024-01-12', '2024-01-27'),\n",
    "(5, '2024-01-15', '2024-01-30'),\n",
    "(6, '2024-01-20', '2024-02-05'),\n",
    "(7, '2024-01-25', '2024-02-10'),\n",
    "(8, '2024-02-01', '2024-02-15'),\n",
    "(9, '2024-02-05', '2024-02-20'),\n",
    "(10, '2024-02-10', '2024-02-25');\n",
    "\n",
    "-- Insert data into Borrow\n",
    "INSERT INTO Borrow (borrowID, memberID, itemID) VALUES\n",
    "(1, 100, 1), \n",
    "(2, 100, 2),\n",
    "(3, 101, 3), \n",
    "(4, 102, 4), \n",
    "(5, 103, 5),\n",
    "(6, 104, 6), \n",
    "(7, 105, 7), \n",
    "(8, 106, 8), \n",
    "(9, 107, 9), \n",
    "(10, 108, 10);\n",
    "\n",
    "-- Insert data into Item\n",
    "INSERT INTO Item (itemID, name, author, category, genre, status) VALUES\n",
    "(1, 'Book A', 'Author A', 'Fiction', 'Fantasy', 'Available'),\n",
    "(2, 'Book B', 'Author B', 'Non-Fiction', 'History', 'Unavailable'),\n",
    "(3, 'Book C', 'Author C', 'Fiction', 'Sci-Fi', 'Available'),\n",
    "(4, 'Book D', 'Author D', 'Non-Fiction', 'Biography', 'Available'),\n",
    "(5, 'Book E', 'Author E', 'Fiction', 'Mystery', 'Unavailable'),\n",
    "(6, 'Book F', 'Author F', 'Non-Fiction', 'Science', 'Available'),\n",
    "(7, 'Book G', 'Author G', 'Fiction', 'Horror', 'Unavailable'),\n",
    "(8, 'Book H', 'Author H', 'Non-Fiction', 'Philosophy', 'Available'),\n",
    "(9, 'Book I', 'Author I', 'Fiction', 'Drama', 'Available'),\n",
    "(10, 'Book J', 'Author J', 'Non-Fiction', 'Self-Help', 'Unavailable');\n",
    "\n",
    "\n",
    "\n",
    "-- Insert data into Records\n",
    "INSERT INTO Records (recordID, status, lastUpdated) VALUES\n",
    "(1, 'In System', '2024-01-01'), (2, 'Awaiting Approval', '2024-01-05'),\n",
    "(3, 'Archived', '2024-01-10'), (4, 'In System', '2024-01-15'),\n",
    "(5, 'Awaiting Approval', '2024-01-20'), (6, 'Archived', '2024-01-25'),\n",
    "(7, 'In System', '2024-02-01'), (8, 'Awaiting Approval', '2024-02-05'),\n",
    "(9, 'Archived', '2024-02-10'), (10, 'In System', '2024-02-15');\n",
    "\n",
    "-- Insert data into Events\n",
    "INSERT INTO Events (eventID, name, scheduledTime, scheduledDate, targetAudience) VALUES\n",
    "(1, 'Storytime', '10:00:00', '2024-03-01', 'Children'),\n",
    "(2, 'Book Club', '14:00:00', '2024-03-02', 'Adults'),\n",
    "(3, 'Author Talk', '16:00:00', '2024-03-03', 'Everyone'),\n",
    "(4, 'Poetry Reading', '18:00:00', '2024-03-04', 'Teens'),\n",
    "(5, 'History Lecture', '12:00:00', '2024-03-05', 'Adults'),\n",
    "(6, 'Science Fair', '15:00:00', '2024-03-06', 'Students'),\n",
    "(7, 'Art Exhibit', '11:00:00', '2024-03-07', 'Everyone'),\n",
    "(8, 'Tech Workshop', '17:00:00', '2024-03-08', 'Teens'),\n",
    "(9, 'Movie Night', '19:00:00', '2024-03-09', 'Everyone'),\n",
    "(10, 'Music Concert', '20:00:00', '2024-03-10', 'Everyone');\n"
   ]
  },
  {
   "cell_type": "markdown",
   "metadata": {},
   "source": [
    "#### Indexes"
   ]
  },
  {
   "cell_type": "code",
   "execution_count": 9,
   "metadata": {},
   "outputs": [
    {
     "data": {
      "text/html": [
       "<span style=\"None\">Running query in &#x27;sqlite:///library.db&#x27;</span>"
      ],
      "text/plain": [
       "Running query in 'sqlite:///library.db'"
      ]
     },
     "metadata": {},
     "output_type": "display_data"
    },
    {
     "data": {
      "text/html": [
       "<table>\n",
       "    <thead>\n",
       "        <tr>\n",
       "        </tr>\n",
       "    </thead>\n",
       "    <tbody>\n",
       "    </tbody>\n",
       "</table>"
      ],
      "text/plain": [
       "++\n",
       "||\n",
       "++\n",
       "++"
      ]
     },
     "execution_count": 9,
     "metadata": {},
     "output_type": "execute_result"
    }
   ],
   "source": [
    "%%sql\n",
    "\n",
    "CREATE INDEX ItemIndex ON Item(name, author);"
   ]
  },
  {
   "cell_type": "markdown",
   "metadata": {},
   "source": [
    "#### FOR TESTING PURPOSES\n",
    "Delete tables if you need to"
   ]
  },
  {
   "cell_type": "code",
   "execution_count": 36,
   "metadata": {},
   "outputs": [
    {
     "data": {
      "text/html": [
       "<span style=\"None\">Running query in &#x27;sqlite:///library.db&#x27;</span>"
      ],
      "text/plain": [
       "Running query in 'sqlite:///library.db'"
      ]
     },
     "metadata": {},
     "output_type": "display_data"
    },
    {
     "data": {
      "text/html": [
       "<table>\n",
       "    <thead>\n",
       "        <tr>\n",
       "        </tr>\n",
       "    </thead>\n",
       "    <tbody>\n",
       "    </tbody>\n",
       "</table>"
      ],
      "text/plain": [
       "++\n",
       "||\n",
       "++\n",
       "++"
      ]
     },
     "execution_count": 36,
     "metadata": {},
     "output_type": "execute_result"
    }
   ],
   "source": [
    "%%sql \n",
    "-- Disable foreign key checks temporarily\n",
    "PRAGMA foreign_keys = OFF;\n",
    "\n",
    "-- Drop all tables (starting with those with foreign keys)\n",
    "DROP TABLE IF EXISTS Hold;\n",
    "DROP TABLE IF EXISTS Located;\n",
    "DROP TABLE IF EXISTS Events;\n",
    "DROP TABLE IF EXISTS Staff;\n",
    "DROP TABLE IF EXISTS Volunteer;\n",
    "DROP TABLE IF EXISTS Borrow;\n",
    "DROP TABLE IF EXISTS BorrowTransactions;\n",
    "DROP TABLE IF EXISTS History;\n",
    "DROP TABLE IF EXISTS Records;\n",
    "DROP TABLE IF EXISTS Fines;\n",
    "DROP TABLE IF EXISTS Owes;\n",
    "DROP TABLE IF EXISTS Item;\n",
    "DROP TABLE IF EXISTS Member;\n",
    "DROP TABLE IF EXISTS Room;\n",
    "\n",
    "-- Re-enable foreign key checks\n",
    "PRAGMA foreign_keys = ON;\n"
   ]
  }
 ],
 "metadata": {
  "kernelspec": {
   "display_name": "base",
   "language": "python",
   "name": "python3"
  },
  "language_info": {
   "codemirror_mode": {
    "name": "ipython",
    "version": 3
   },
   "file_extension": ".py",
   "mimetype": "text/x-python",
   "name": "python",
   "nbconvert_exporter": "python",
   "pygments_lexer": "ipython3",
   "version": "3.12.2"
  }
 },
 "nbformat": 4,
 "nbformat_minor": 2
}
